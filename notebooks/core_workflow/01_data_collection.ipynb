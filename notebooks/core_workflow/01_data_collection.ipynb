{
 "cells": [
  {
   "cell_type": "markdown",
   "id": "0",
   "metadata": {
    "lines_to_next_cell": 2
   },
   "source": [
    "# Hong Kong Stock Data Collection\n",
    "\n",
    "This notebook demonstrates how to fetch and cache daily OHLCV data for Hong Kong stocks using Yahoo Finance. The data will be used for chart pattern recognition and model training.\n",
    "\n",
    "## Features\n",
    "- ✅ Fetch data from Yahoo Finance\n",
    "- ✅ Intelligent local caching\n",
    "- ✅ Incremental updates\n",
    "- ✅ Progress tracking\n",
    "- ✅ Error handling and recovery\n",
    "- ✅ Data validation and preview"
   ]
  },
  {
   "cell_type": "markdown",
   "id": "1",
   "metadata": {
    "lines_to_next_cell": 2
   },
   "source": [
    "## Setup and Imports\n",
    "\n",
    "First, let's import the necessary libraries and our data fetching module."
   ]
  },
  {
   "cell_type": "code",
   "execution_count": null,
   "metadata": {
    "lines_to_next_cell": 2
   },
   "outputs": [],
   "source": [
    "# Use the shared setup utility\n",
    "from common_setup import setup_notebook, get_hk_stock_names, get_date_range, import_common_modules\n",
    "from datetime import datetime, timedelta\n",
    "\n",
    "# Set up notebook environment\n",
    "validation = setup_notebook()\n",
    "\n",
    "# Import our data fetching functions\n",
    "modules = import_common_modules()\n",
    "fetch_hk_stocks = modules['fetch_hk_stocks']\n",
    "validate_tickers = modules['validate_tickers']\n",
    "\n",
    "# Additional specific imports for this notebook\n",
    "from data_fetcher import preview_cached_data, list_cached_tickers\n",
    "\n",
    "print(\"✅ All imports successful!\")\n",
    "print(f\"📅 Current date: {datetime.now().strftime('%Y-%m-%d %H:%M:%S')}\")\n",
    "\n",
    "# Get stock names dictionary\n",
    "stock_names = get_hk_stock_names()"
   ]
  },
  {
   "cell_type": "code",
   "execution_count": null,
   "metadata": {
    "lines_to_next_cell": 2
   },
   "outputs": [],
   "source": [
    "## Step 1: Define Target Stocks\n",
    "\n",
    "Let's define some popular Hong Kong stocks to fetch data for. These are commonly traded stocks that should have good data availability."
   ]
  },
  {
   "cell_type": "code",
   "execution_count": null,
   "metadata": {
    "lines_to_next_cell": 2
   },
   "outputs": [],
   "source": [
    "# Define target Hong Kong stocks - Popular, reliable tickers for demo\n",
    "target_tickers = [\n",
    "    '0700.HK',  # Tencent - Tech leader\n",
    "    '0005.HK',  # HSBC - Major bank  \n",
    "    '0388.HK',  # HKEX - Local exchange\n",
    "]\n",
    "\n",
    "# Validate ticker formats\n",
    "valid_tickers, invalid_tickers = validate_tickers(target_tickers)\n",
    "\n",
    "print(f\"📊 Target stocks: {len(target_tickers)} total\")\n",
    "print(f\"✅ Valid tickers: {len(valid_tickers)} - {valid_tickers}\")\n",
    "if invalid_tickers:\n",
    "    print(f\"❌ Invalid tickers: {len(invalid_tickers)} - {invalid_tickers}\")\n",
    "\n",
    "# Display stock names for reference\n",
    "\n",
    "\n",
    "print(\"\\n🏢 Stock names:\")\n",
    "for ticker in valid_tickers:\n",
    "    print(f\"  {ticker}: {stock_names.get(ticker, 'Unknown')}\")"
   ]
  },
  {
   "cell_type": "code",
   "execution_count": null,
   "metadata": {},
   "outputs": [],
   "source": [
    "valid_tickers"
   ]
  },
  {
   "cell_type": "code",
   "execution_count": null,
   "metadata": {
    "lines_to_next_cell": 2
   },
   "outputs": [],
   "source": [
    "## Step 2: Set Date Range\n",
    "\n",
    "Define the date range for historical data. We'll fetch approximately 1 year of data for pattern recognition training."
   ]
  },
  {
   "cell_type": "code",
   "execution_count": null,
   "metadata": {
    "lines_to_next_cell": 2
   },
   "outputs": [],
   "source": [
    "# Define date range (1 year of data)\n",
    "end_date = datetime.now().strftime('%Y-%m-%d')\n",
    "start_date = (datetime.now() - timedelta(days=365)).strftime('%Y-%m-%d')\n",
    "\n",
    "print(f\"📅 Date range for data collection:\")\n",
    "print(f\"   Start: {start_date}\")\n",
    "print(f\"   End: {end_date}\")\n",
    "print(f\"   Duration: ~365 days\")\n",
    "\n",
    "# Calculate expected trading days (approximately 250 trading days per year)\n",
    "total_days = (datetime.strptime(end_date, '%Y-%m-%d') - datetime.strptime(start_date, '%Y-%m-%d')).days\n",
    "expected_trading_days = int(total_days * 5/7 * 0.95)  # Rough estimate excluding weekends and holidays\n",
    "\n",
    "print(f\"   Expected trading days: ~{expected_trading_days}\")"
   ]
  },
  {
   "cell_type": "code",
   "execution_count": null,
   "metadata": {
    "lines_to_next_cell": 2
   },
   "outputs": [],
   "source": [
    "## Step 3: Check Existing Cache\n",
    "\n",
    "Before fetching new data, let's see what's already cached locally."
   ]
  },
  {
   "cell_type": "code",
   "execution_count": null,
   "metadata": {
    "lines_to_next_cell": 2
   },
   "outputs": [],
   "source": [
    "# Check existing cached data\n",
    "print(\"📁 Current cache status:\")\n",
    "list_cached_tickers()"
   ]
  },
  {
   "cell_type": "code",
   "execution_count": null,
   "metadata": {
    "lines_to_next_cell": 2
   },
   "outputs": [],
   "source": [
    "## Step 4: Fetch Stock Data\n",
    "\n",
    "Now let's fetch the data. This will use intelligent caching - if data already exists, it will only fetch missing data."
   ]
  },
  {
   "cell_type": "code",
   "execution_count": null,
   "metadata": {
    "lines_to_next_cell": 2
   },
   "outputs": [],
   "source": [
    "# Fetch stock data with caching\n",
    "print(\"🚀 Starting data collection...\\n\")\n",
    "\n",
    "stock_data = fetch_hk_stocks(\n",
    "    tickers=valid_tickers,\n",
    "    start_date=start_date,\n",
    "    end_date=end_date,\n",
    "    force_refresh=False  # Use cached data when available for faster execution\n",
    ")\n",
    "\n",
    "print(f\"\\n✅ Data collection completed!\")\n",
    "print(f\"📊 Successfully fetched data for {len(stock_data)} stocks\")"
   ]
  },
  {
   "cell_type": "code",
   "execution_count": null,
   "metadata": {
    "lines_to_next_cell": 2
   },
   "outputs": [],
   "source": [
    "## Step 5: Data Validation and Preview\n",
    "\n",
    "Let's validate the fetched data and get a preview of what we have."
   ]
  },
  {
   "cell_type": "code",
   "execution_count": null,
   "metadata": {
    "lines_to_next_cell": 2
   },
   "outputs": [],
   "source": [
    "# Validate data structure and content\n",
    "print(\"🔍 Data validation:\")\n",
    "print(\"=\"*50)\n",
    "\n",
    "for ticker, data in stock_data.items():\n",
    "    print(f\"\\n📈 {ticker} ({stock_names.get(ticker, 'Unknown')})\")\n",
    "    print(f\"   📅 Date range: {data.index.min().date()} to {data.index.max().date()}\")\n",
    "    print(f\"   📊 Records: {len(data)}\")\n",
    "    print(f\"   📋 Columns: {list(data.columns)}\")\n",
    "    print(f\"   💰 Price range: ${data['Close'].min():.2f} - ${data['Close'].max():.2f}\")\n",
    "    print(f\"   📊 Average volume: {data['Volume'].mean():,.0f}\")\n",
    "    \n",
    "    # Check for missing data\n",
    "    missing_data = data.isnull().sum().sum()\n",
    "    if missing_data > 0:\n",
    "        print(f\"   ⚠️  Missing data points: {missing_data}\")\n",
    "    else:\n",
    "        print(f\"   ✅ No missing data\")\n",
    "    \n",
    "    # Display recent data sample\n",
    "    print(f\"   📋 Recent data:\")\n",
    "    print(data.tail(3).round(2))\n",
    "\n",
    "print(f\"\\n📊 Overall statistics:\")\n",
    "print(f\"   Total records: {sum(len(data) for data in stock_data.values()):,}\")\n",
    "print(f\"   Average records per stock: {sum(len(data) for data in stock_data.values()) / len(stock_data):.0f}\")\n",
    "print(f\"\\n✅ Data validation completed!\")"
   ]
  }
 ],
 "metadata": {
  "jupytext": {
   "cell_metadata_filter": "-all",
   "formats": "ipynb,py:percent",
   "notebook_metadata_filter": "all,-language_info,-toc,-latex_envs"
  },
  "kernelspec": {
   "display_name": "Python 3",
   "language": "python",
   "name": "python3"
  },
  "language_info": {
   "codemirror_mode": {
    "name": "ipython",
    "version": 3
   },
   "file_extension": ".py",
   "mimetype": "text/x-python",
   "name": "python",
   "nbconvert_exporter": "python",
   "pygments_lexer": "ipython3",
   "version": "3.11.8"
  }
 },
 "nbformat": 4,
 "nbformat_minor": 2
}
