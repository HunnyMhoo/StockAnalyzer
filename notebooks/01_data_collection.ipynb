{
  "cells": [
    {
      "cell_type": "code",
      "execution_count": null,
      "metadata": {},
      "outputs": [],
      "source": [
        "# Hong Kong Stock Data Collection\n",
        "\n",
        "This notebook demonstrates how to fetch and cache daily OHLCV data for Hong Kong stocks using Yahoo Finance. The data will be used for chart pattern recognition and model training.\n",
        "\n",
        "## Features\n",
        "- ✅ Fetch data from Yahoo Finance\n",
        "- ✅ Intelligent local caching\n",
        "- ✅ Incremental updates\n",
        "- ✅ Progress tracking\n",
        "- ✅ Error handling and recovery\n",
        "- ✅ Data validation and preview\n"
      ]
    },
    {
      "cell_type": "code",
      "execution_count": null,
      "metadata": {},
      "outputs": [],
      "source": [
        "## Setup and Imports\n",
        "\n",
        "First, let's import the necessary libraries and our data fetching module.\n"
      ]
    },
    {
      "cell_type": "code",
      "execution_count": 2,
      "metadata": {},
      "outputs": [
        {
          "name": "stdout",
          "output_type": "stream",
          "text": [
            "✅ All imports successful!\n",
            "📅 Current date: 2025-06-17 18:19:31\n"
          ]
        }
      ],
      "source": [
        "# Add the src directory to Python path\n",
        "import sys\n",
        "import os\n",
        "sys.path.append(os.path.join('..', 'src'))\n",
        "\n",
        "# Import our data fetching functions\n",
        "from data_fetcher import (\n",
        "    fetch_hk_stocks,\n",
        "    validate_tickers,\n",
        "    preview_cached_data,\n",
        "    list_cached_tickers\n",
        ")\n",
        "\n",
        "# Standard data science libraries\n",
        "import pandas as pd\n",
        "import matplotlib.pyplot as plt\n",
        "import seaborn as sns\n",
        "from datetime import datetime, timedelta\n",
        "\n",
        "# Configure display options\n",
        "pd.set_option('display.max_columns', None)\n",
        "pd.set_option('display.width', None)\n",
        "plt.style.use('seaborn-v0_8')\n",
        "\n",
        "print(\"✅ All imports successful!\")\n",
        "print(f\"📅 Current date: {datetime.now().strftime('%Y-%m-%d %H:%M:%S')}\")\n"
      ]
    },
    {
      "cell_type": "code",
      "execution_count": null,
      "metadata": {},
      "outputs": [],
      "source": [
        "## Step 1: Define Target Stocks\n",
        "\n",
        "Let's define some popular Hong Kong stocks to fetch data for. These are commonly traded stocks that should have good data availability.\n"
      ]
    },
    {
      "cell_type": "code",
      "execution_count": null,
      "metadata": {},
      "outputs": [],
      "source": [
        "# Define target Hong Kong stocks\n",
        "target_tickers = [\n",
        "    '0700.HK',  # Tencent Holdings\n",
        "    '0005.HK',  # HSBC Holdings\n",
        "    '0941.HK',  # China Mobile\n",
        "    '0388.HK',  # Hong Kong Exchanges\n",
        "    '1299.HK',  # AIA Group\n",
        "    '2318.HK',  # Ping An Insurance\n",
        "    '1398.HK',  # Industrial and Commercial Bank of China\n",
        "    '0939.HK',  # China Construction Bank\n",
        "]\n",
        "\n",
        "# Validate ticker formats\n",
        "valid_tickers, invalid_tickers = validate_tickers(target_tickers)\n",
        "\n",
        "print(f\"📊 Target stocks: {len(target_tickers)} total\")\n",
        "print(f\"✅ Valid tickers: {len(valid_tickers)} - {valid_tickers}\")\n",
        "if invalid_tickers:\n",
        "    print(f\"❌ Invalid tickers: {len(invalid_tickers)} - {invalid_tickers}\")\n",
        "\n",
        "# Display stock names for reference\n",
        "stock_names = {\n",
        "    '0700.HK': 'Tencent Holdings',\n",
        "    '0005.HK': 'HSBC Holdings', \n",
        "    '0941.HK': 'China Mobile',\n",
        "    '0388.HK': 'Hong Kong Exchanges',\n",
        "    '1299.HK': 'AIA Group',\n",
        "    '2318.HK': 'Ping An Insurance',\n",
        "    '1398.HK': 'ICBC',\n",
        "    '0939.HK': 'China Construction Bank'\n",
        "}\n",
        "\n",
        "print(\"\\n🏢 Stock names:\")\n",
        "for ticker in valid_tickers:\n",
        "    print(f\"  {ticker}: {stock_names.get(ticker, 'Unknown')}\")\n"
      ]
    },
    {
      "cell_type": "code",
      "execution_count": null,
      "metadata": {},
      "outputs": [],
      "source": [
        "## Step 2: Set Date Range\n",
        "\n",
        "Define the date range for historical data. We'll fetch approximately 1 year of data for pattern recognition training.\n"
      ]
    },
    {
      "cell_type": "code",
      "execution_count": null,
      "metadata": {},
      "outputs": [],
      "source": [
        "# Define date range (1 year of data)\n",
        "end_date = datetime.now().strftime('%Y-%m-%d')\n",
        "start_date = (datetime.now() - timedelta(days=365)).strftime('%Y-%m-%d')\n",
        "\n",
        "print(f\"📅 Date range for data collection:\")\n",
        "print(f\"   Start: {start_date}\")\n",
        "print(f\"   End: {end_date}\")\n",
        "print(f\"   Duration: ~365 days\")\n",
        "\n",
        "# Calculate expected trading days (approximately 250 trading days per year)\n",
        "total_days = (datetime.strptime(end_date, '%Y-%m-%d') - datetime.strptime(start_date, '%Y-%m-%d')).days\n",
        "expected_trading_days = int(total_days * 5/7 * 0.95)  # Rough estimate excluding weekends and holidays\n",
        "\n",
        "print(f\"   Expected trading days: ~{expected_trading_days}\")\n"
      ]
    },
    {
      "cell_type": "code",
      "execution_count": null,
      "metadata": {},
      "outputs": [],
      "source": [
        "## Step 3: Check Existing Cache\n",
        "\n",
        "Before fetching new data, let's see what's already cached locally.\n"
      ]
    },
    {
      "cell_type": "code",
      "execution_count": null,
      "metadata": {},
      "outputs": [],
      "source": [
        "# Check existing cached data\n",
        "print(\"📁 Current cache status:\")\n",
        "list_cached_tickers()\n"
      ]
    },
    {
      "cell_type": "code",
      "execution_count": null,
      "metadata": {},
      "outputs": [],
      "source": [
        "## Step 4: Fetch Stock Data\n",
        "\n",
        "Now let's fetch the data. This will use intelligent caching - if data already exists, it will only fetch missing data.\n"
      ]
    },
    {
      "cell_type": "code",
      "execution_count": null,
      "metadata": {},
      "outputs": [],
      "source": [
        "# Fetch stock data with caching\n",
        "print(\"🚀 Starting data collection...\\n\")\n",
        "\n",
        "stock_data = fetch_hk_stocks(\n",
        "    tickers=valid_tickers,\n",
        "    start_date=start_date,\n",
        "    end_date=end_date,\n",
        "    force_refresh=False  # Set to True to ignore cache and fetch fresh data\n",
        ")\n",
        "\n",
        "print(f\"\\n✅ Data collection completed!\")\n",
        "print(f\"📊 Successfully fetched data for {len(stock_data)} stocks\")\n"
      ]
    },
    {
      "cell_type": "code",
      "execution_count": null,
      "metadata": {},
      "outputs": [],
      "source": [
        "## Step 5: Data Validation and Preview\n",
        "\n",
        "Let's validate the fetched data and get a preview of what we have.\n"
      ]
    },
    {
      "cell_type": "code",
      "execution_count": null,
      "metadata": {},
      "outputs": [],
      "source": [
        "# Validate data structure and content\n",
        "print(\"🔍 Data validation:\")\n",
        "print(\"=\"*50)\n",
        "\n",
        "for ticker, data in stock_data.items():\n",
        "    print(f\"\\n📈 {ticker} ({stock_names.get(ticker, 'Unknown')})\")\n",
        "    print(f\"   📅 Date range: {data.index.min().date()} to {data.index.max().date()}\")\n",
        "    print(f\"   📊 Records: {len(data)}\")\n",
        "    print(f\"   📋 Columns: {list(data.columns)}\")\n",
        "    print(f\"   💰 Price range: ${data['Close'].min():.2f} - ${data['Close'].max():.2f}\")\n",
        "    print(f\"   📊 Average volume: {data['Volume'].mean():,.0f}\")\n",
        "    \n",
        "    # Check for missing data\n",
        "    missing_data = data.isnull().sum().sum()\n",
        "    if missing_data > 0:\n",
        "        print(f\"   ⚠️  Missing data points: {missing_data}\")\n",
        "    else:\n",
        "        print(f\"   ✅ No missing data\")\n",
        "    \n",
        "    # Display recent data sample\n",
        "    print(f\"   📋 Recent data:\")\n",
        "    print(data.tail(3).round(2))\n",
        "\n",
        "print(f\"\\n📊 Overall statistics:\")\n",
        "print(f\"   Total records: {sum(len(data) for data in stock_data.values()):,}\")\n",
        "print(f\"   Average records per stock: {sum(len(data) for data in stock_data.values()) / len(stock_data):.0f}\")\n",
        "print(f\"\\n✅ Data validation completed!\")\n"
      ]
    }
  ],
  "metadata": {
    "kernelspec": {
      "display_name": "Python 3",
      "language": "python",
      "name": "python3"
    },
    "language_info": {
      "codemirror_mode": {
        "name": "ipython",
        "version": 3
      },
      "file_extension": ".py",
      "mimetype": "text/x-python",
      "name": "python",
      "nbconvert_exporter": "python",
      "pygments_lexer": "ipython3",
      "version": "3.11.8"
    }
  },
  "nbformat": 4,
  "nbformat_minor": 2
}
