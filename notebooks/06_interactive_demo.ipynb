{
 "cells": [
  {
   "cell_type": "markdown",
   "id": "0",
   "metadata": {
    "magic_args": "[markdown]"
   },
   "source": [
    "# 🎯 Advanced Hong Kong Stock Pattern Finder\n",
    "This notebook finds stocks with patterns similar to a user-defined example, using user-provided negative examples for more accurate training.\n",
    "\n",
    "## Workflow:\n",
    "1.  **Define Positive Pattern** → Enter one stock ticker and date range that represents the pattern you want to find.\n",
    "2.  **Define Negative Examples** → Provide a comma-separated list of stock tickers that explicitly **do not** show the desired pattern.\n",
    "3.  **Find Matches** → The system trains a temporary model on your examples and scans the market for similar patterns."
   ]
  },
  {
   "cell_type": "code",
   "execution_count": null,
   "id": "1",
   "metadata": {
    "lines_to_next_cell": 0
   },
   "outputs": [],
   "source": []
  },
  {
   "cell_type": "code",
   "execution_count": null,
   "id": "2",
   "metadata": {},
   "outputs": [],
   "source": [
    "# CELL 1: SETUP - Imports and Path Configuration\n",
    "import os\n",
    "import sys\n",
    "import warnings\n",
    "from pathlib import Path\n",
    "from datetime import datetime, timedelta\n",
    "import pandas as pd\n",
    "import numpy as np\n",
    "import ipywidgets as widgets\n",
    "from IPython.display import display, clear_output, HTML"
   ]
  },
  {
   "cell_type": "code",
   "execution_count": null,
   "id": "3",
   "metadata": {},
   "outputs": [],
   "source": [
    "# Setup paths\n",
    "current_dir = Path.cwd()\n",
    "project_root = current_dir.parent if current_dir.name == 'notebooks' else current_dir\n",
    "sys.path.insert(0, str(project_root))"
   ]
  },
  {
   "cell_type": "code",
   "execution_count": null,
   "id": "4",
   "metadata": {},
   "outputs": [],
   "source": [
    "# Import custom modules\n",
    "from src.data_fetcher import fetch_hk_stocks, get_all_cached_tickers, validate_cached_data_file\n",
    "from src.feature_extractor import FeatureExtractor\n",
    "from src.pattern_scanner import PatternScanner, ScanningConfig\n",
    "from src.hk_stock_universe import get_hk_stock_list_static"
   ]
  },
  {
   "cell_type": "code",
   "execution_count": null,
   "id": "5",
   "metadata": {
    "lines_to_next_cell": 1
   },
   "outputs": [],
   "source": [
    "warnings.filterwarnings('ignore')\n",
    "print(\"✅ Setup Complete: All libraries and modules are loaded.\")"
   ]
  },
  {
   "cell_type": "markdown",
   "id": "6",
   "metadata": {},
   "source": [
    "## 📊 Data Discovery\n",
    "\n",
    "Let's check what stock data is available for pattern scanning:"
   ]
  },
  {
   "cell_type": "code",
   "execution_count": null,
   "id": "7",
   "metadata": {},
   "outputs": [],
   "source": [
    "def show_data_summary():\n",
    "    \"\"\"Display summary of available stock data for pattern scanning\"\"\"\n",
    "    print(\"🔍 Discovering available stock data...\")\n",
    "    available_stocks = get_all_cached_tickers()\n",
    "    \n",
    "    if not available_stocks:\n",
    "        print(\"❌ No cached stock data found!\")\n",
    "        print(\"📝 Please run data collection notebooks first (01_data_collection.py or 02_bulk_data_collection.py)\")\n",
    "        return\n",
    "    \n",
    "    print(f\"✅ Found {len(available_stocks)} stocks with cached data\")\n",
    "    print(f\"📈 Sample stocks: {', '.join(available_stocks[:10])}\")\n",
    "    if len(available_stocks) > 10:\n",
    "        print(f\"   ... and {len(available_stocks) - 10} more\")\n",
    "    \n",
    "    # Show data quality overview\n",
    "    print(\"\\n📊 Data Quality Overview:\")\n",
    "    high_quality = medium_quality = low_quality = 0\n",
    "    \n",
    "    for ticker in available_stocks[:20]:  # Sample first 20 for performance\n",
    "        validation = validate_cached_data_file(ticker)\n",
    "        if validation['data_quality_score'] >= 0.8:\n",
    "            high_quality += 1\n",
    "        elif validation['data_quality_score'] >= 0.6:\n",
    "            medium_quality += 1\n",
    "        else:\n",
    "            low_quality += 1\n",
    "    \n",
    "    total_sampled = min(20, len(available_stocks))\n",
    "    print(f\"   High Quality: {high_quality}/{total_sampled} stocks\")\n",
    "    print(f\"   Medium Quality: {medium_quality}/{total_sampled} stocks\") \n",
    "    print(f\"   Low Quality: {low_quality}/{total_sampled} stocks\")\n",
    "    \n",
    "    print(f\"\\n🎯 Ready to scan {len(available_stocks)} stocks for patterns!\")\n",
    "\n",
    "show_data_summary()"
   ]
  },
  {
   "cell_type": "code",
   "execution_count": null,
   "id": "8",
   "metadata": {
    "lines_to_next_cell": 0
   },
   "outputs": [],
   "source": []
  },
  {
   "cell_type": "code",
   "execution_count": null,
   "id": "9",
   "metadata": {},
   "outputs": [],
   "source": [
    "# Simple config class that can be pickled (must be at module level)\n",
    "class SimpleConfig:\n",
    "    def __init__(self):\n",
    "        self.model_type = \"xgboost\""
   ]
  },
  {
   "cell_type": "code",
   "execution_count": null,
   "id": "10",
   "metadata": {
    "lines_to_next_cell": 0
   },
   "outputs": [],
   "source": []
  },
  {
   "cell_type": "code",
   "execution_count": null,
   "id": "11",
   "metadata": {
    "lines_to_next_cell": 1
   },
   "outputs": [],
   "source": [
    "# CELL 2: PATTERN ANALYSIS FUNCTION (FIXED VERSION)\n",
    "def find_similar_patterns(positive_ticker, start_date_str, end_date_str, negative_tickers_str):\n",
    "    \"\"\"\n",
    "    Analyzes a given stock pattern and finds similar patterns in other stocks, using user-defined negative examples.\n",
    "    \"\"\"\n",
    "    try:\n",
    "        # --- 1. Validate Inputs ---\n",
    "        start_date = datetime.strptime(start_date_str, '%Y-%m-%d').date()\n",
    "        end_date = datetime.strptime(end_date_str, '%Y-%m-%d').date()\n",
    "        if not positive_ticker.endswith('.HK') or (end_date - start_date).days < 5:\n",
    "            raise ValueError(\"Invalid positive pattern. Ticker must be a .HK stock and pattern must be >= 5 days.\")\n",
    "\n",
    "        # Parse and validate negative tickers\n",
    "        negative_tickers = [t.strip().upper() for t in negative_tickers_str.split(',') if t.strip()]\n",
    "        if not negative_tickers:\n",
    "            raise ValueError(\"Please provide at least one negative ticker.\")\n",
    "        for t in negative_tickers:\n",
    "            if not t.endswith('.HK'):\n",
    "                raise ValueError(f\"Invalid negative ticker: {t}. All tickers must end with .HK\")\n",
    "\n",
    "        print(f\"🔍 Analyzing positive pattern for {positive_ticker} from {start_date_str} to {end_date_str}...\")\n",
    "        print(f\"📉 Using {len(negative_tickers)} negative examples: {', '.join(negative_tickers)}\")\n",
    "\n",
    "        # --- 2. Extract Features for the Positive Pattern ---\n",
    "        extractor = FeatureExtractor()\n",
    "        context_start_date = start_date - timedelta(days=30)\n",
    "        data_dict = fetch_hk_stocks([positive_ticker], str(context_start_date), str(end_date))\n",
    "        if not data_dict or positive_ticker not in data_dict:\n",
    "            raise ConnectionError(f\"Could not fetch data for positive ticker {positive_ticker}.\")\n",
    "\n",
    "        full_data = data_dict[positive_ticker]\n",
    "        window_data = full_data.loc[start_date_str:end_date_str]\n",
    "        prior_context_data = full_data.loc[:start_date_str].iloc[:-1]\n",
    "\n",
    "        positive_features = extractor.extract_features_from_window_data(\n",
    "            window_data, prior_context_data, positive_ticker, start_date_str, end_date_str, full_data\n",
    "        )\n",
    "        if not positive_features:\n",
    "            raise ValueError(\"Could not extract features from the provided positive pattern.\")\n",
    "\n",
    "        # --- 3. Extract Features for Negative Examples ---\n",
    "        all_features = [positive_features]\n",
    "        all_labels = [1]\n",
    "        \n",
    "        negative_data = fetch_hk_stocks(negative_tickers, (end_date - timedelta(days=365)).strftime('%Y-%m-%d'), str(end_date))\n",
    "\n",
    "        for neg_ticker, neg_df in negative_data.items():\n",
    "            if len(neg_df) > len(window_data) + 30:\n",
    "                rand_start = np.random.randint(0, len(neg_df) - len(window_data) - 30)\n",
    "                neg_window = neg_df.iloc[rand_start + 30 : rand_start + 30 + len(window_data)]\n",
    "                neg_context = neg_df.iloc[rand_start : rand_start + 30]\n",
    "                \n",
    "                neg_features = extractor.extract_features_from_window_data(\n",
    "                    neg_window, neg_context, neg_ticker, str(neg_window.index.min().date()), str(neg_window.index.max().date()), neg_df\n",
    "                )\n",
    "                if neg_features:\n",
    "                    all_features.append(neg_features)\n",
    "                    all_labels.append(0)\n",
    "        \n",
    "        if all_labels.count(0) == 0:\n",
    "            raise ValueError(\"Failed to generate negative training samples from the provided tickers.\")\n",
    "            \n",
    "        # Create a DataFrame from all collected features (positive and negative)\n",
    "        full_features_df = pd.DataFrame(all_features)\n",
    "\n",
    "        # Define all metadata columns that should NOT be used for training\n",
    "        metadata_cols = ['ticker', 'start_date', 'end_date', 'label_type', 'notes']\n",
    "        \n",
    "        # Get the final list of feature names by excluding metadata\n",
    "        feature_names = [col for col in full_features_df.columns if col not in metadata_cols]\n",
    "        \n",
    "        # Create a clean DataFrame for training with only numeric features\n",
    "        training_df_raw = full_features_df[feature_names]\n",
    "\n",
    "        # Force all training columns to be numeric, coercing errors to NaN\n",
    "        training_df = training_df_raw.apply(pd.to_numeric, errors='coerce').fillna(0)\n",
    "        \n",
    "        # --- 4. Train a Temporary Model ---\n",
    "        print(f\"🤖 Training model on {len(training_df)} samples ({all_labels.count(1)} positive, {all_labels.count(0)} negative)...\")\n",
    "        \n",
    "        try:\n",
    "            import xgboost as xgb\n",
    "            import joblib\n",
    "            model = xgb.XGBClassifier(use_label_encoder=False, eval_metric='logloss')\n",
    "            model.fit(training_df, pd.Series(all_labels))\n",
    "        except Exception as e:\n",
    "            raise Exception(f\"Model training failed: {e}\")\n",
    "\n",
    "        # --- 5. Scan for Similar Patterns ---\n",
    "        print(f\"🔎 Discovering available stocks from cached data...\")\n",
    "        all_available_stocks = get_all_cached_tickers()\n",
    "        \n",
    "        if not all_available_stocks:\n",
    "            print(\"⚠️  No cached stock data found. Please run data collection first.\")\n",
    "            return\n",
    "            \n",
    "        print(f\"📊 Found {len(all_available_stocks)} stocks with cached data\")\n",
    "        print(f\"🔎 Scanning for similar patterns...\")\n",
    "        \n",
    "        # Create a model package compatible with PatternScanner\n",
    "        # This fixes the \"argument of type 'XGBClassifier' is not iterable\" error\n",
    "        # Using the module-level SimpleConfig class to avoid pickling issues\n",
    "        model_package = {\n",
    "            'model': model,\n",
    "            'scaler': None,\n",
    "            'feature_names': feature_names,\n",
    "            'config': SimpleConfig(),\n",
    "            'metadata': {\n",
    "                'training_date': datetime.now().isoformat(),\n",
    "                'n_samples': len(training_df),\n",
    "                'n_features': len(feature_names),\n",
    "                'class_distribution': pd.Series(all_labels).value_counts().to_dict()\n",
    "            }\n",
    "        }\n",
    "        \n",
    "        # Save the model package (not just the raw model)\n",
    "        temp_model_path = \"temp_model.joblib\"\n",
    "        joblib.dump(model_package, temp_model_path)\n",
    "        \n",
    "        try:\n",
    "            # Initialize the scanner with the properly formatted model package\n",
    "            scanner = PatternScanner(model_path=temp_model_path)\n",
    "            \n",
    "            scan_list = [t for t in all_available_stocks if t != positive_ticker and t not in negative_tickers]\n",
    "            print(f\"📊 Scanning {len(scan_list)} stocks (excluding positive and negative examples)\")\n",
    "            \n",
    "            scan_results = scanner.scan_tickers(scan_list, ScanningConfig(min_confidence=0.7))\n",
    "\n",
    "            if scan_results and not scan_results.matches_df.empty:\n",
    "                matches_df = scan_results.matches_df.sort_values('probability', ascending=False)\n",
    "                print(f\"\\n✅ Found {len(matches_df)} similar patterns out of {len(scan_list)} stocks scanned!\")\n",
    "                \n",
    "                # Show confidence distribution\n",
    "                high_conf = len(matches_df[matches_df['probability'] >= 0.9])\n",
    "                med_conf = len(matches_df[(matches_df['probability'] >= 0.8) & (matches_df['probability'] < 0.9)])\n",
    "                low_conf = len(matches_df[matches_df['probability'] < 0.8])\n",
    "                \n",
    "                print(f\"📈 Confidence Distribution: {high_conf} high (≥90%), {med_conf} medium (80-90%), {low_conf} moderate (70-80%)\")\n",
    "                print(f\"🎯 Top match: {matches_df.iloc[0]['ticker']} with {matches_df.iloc[0]['probability']:.1%} confidence\")\n",
    "                \n",
    "                display(HTML(matches_df.to_html(index=False)))\n",
    "            else:\n",
    "                print(f\"\\n✅ Analysis complete. No similar patterns found out of {len(scan_list)} stocks scanned.\")\n",
    "                print(\"💡 Try lowering the confidence threshold or adjusting your pattern examples.\")\n",
    "        finally:\n",
    "            # Clean up the temporary model file\n",
    "            if os.path.exists(temp_model_path):\n",
    "                os.remove(temp_model_path)\n",
    "\n",
    "    except Exception as e:\n",
    "        print(f\"❌ An error occurred: {e}\")\n",
    "        import traceback\n",
    "        traceback.print_exc()"
   ]
  },
  {
   "cell_type": "code",
   "execution_count": null,
   "id": "12",
   "metadata": {
    "lines_to_next_cell": 0
   },
   "outputs": [],
   "source": []
  },
  {
   "cell_type": "code",
   "execution_count": null,
   "id": "13",
   "metadata": {
    "lines_to_next_cell": 1
   },
   "outputs": [],
   "source": [
    "# CELL 3: USER INTERFACE AND EXECUTION\n",
    "# Create widgets for user input\n",
    "positive_ticker_input = widgets.Text(value='0700.HK', description='Positive Ticker:')\n",
    "start_date_input = widgets.Text(value='2024-01-15', description='Start Date:')\n",
    "end_date_input = widgets.Text(value='2024-02-05', description='End Date:')\n",
    "negative_tickers_input = widgets.Text(value='0005.HK,0941.HK,0388.HK', description='Negative Tickers:')\n",
    "run_button = widgets.Button(description=\"🔍 Find Similar Patterns\", button_style='primary', layout=widgets.Layout(width='250px', height='40px'))\n",
    "output_area = widgets.Output()"
   ]
  },
  {
   "cell_type": "code",
   "execution_count": null,
   "id": "14",
   "metadata": {
    "lines_to_next_cell": 1
   },
   "outputs": [],
   "source": [
    "def on_button_click(b):\n",
    "    with output_area:\n",
    "        clear_output(True)\n",
    "        find_similar_patterns(\n",
    "            positive_ticker_input.value,\n",
    "            start_date_input.value,\n",
    "            end_date_input.value,\n",
    "            negative_tickers_input.value\n",
    "        )"
   ]
  },
  {
   "cell_type": "code",
   "execution_count": null,
   "id": "15",
   "metadata": {},
   "outputs": [],
   "source": [
    "run_button.on_click(on_button_click)"
   ]
  },
  {
   "cell_type": "code",
   "execution_count": null,
   "id": "16",
   "metadata": {},
   "outputs": [],
   "source": [
    "# Display the interface\n",
    "display(\n",
    "    widgets.VBox([\n",
    "        widgets.HTML(\"<h3>Enter Pattern Details</h3>\"),\n",
    "        widgets.HTML(\"<b>Provide one positive example of the pattern you want to find.</b>\"),\n",
    "        positive_ticker_input,\n",
    "        start_date_input,\n",
    "        end_date_input,\n",
    "        widgets.HTML(\"<hr style='margin-top: 10px; margin-bottom: 10px'>\"),\n",
    "        widgets.HTML(\"<b>Provide comma-separated negative examples (stocks that DON'T show the pattern).</b>\"),\n",
    "        negative_tickers_input,\n",
    "        run_button,\n",
    "        output_area\n",
    "    ])\n",
    ") "
   ]
  },
  {
   "cell_type": "code",
   "execution_count": null,
   "id": "17",
   "metadata": {},
   "outputs": [],
   "source": []
  }
 ],
 "metadata": {
  "jupytext": {
   "formats": "ipynb,py:percent"
  },
  "kernelspec": {
   "display_name": "Python 3",
   "language": "python",
   "name": "python3"
  },
  "language_info": {
   "codemirror_mode": {
    "name": "ipython",
    "version": 3
   },
   "file_extension": ".py",
   "mimetype": "text/x-python",
   "name": "python",
   "nbconvert_exporter": "python",
   "pygments_lexer": "ipython3",
   "version": "3.11.8"
  }
 },
 "nbformat": 4,
 "nbformat_minor": 5
}
