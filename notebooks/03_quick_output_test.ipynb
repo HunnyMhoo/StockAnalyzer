{
  "cells": [
    {
      "cell_type": "raw",
      "metadata": {
        "vscode": {
          "languageId": "raw"
        }
      },
      "source": [
        "# 🧪 Quick Output Test - Fix Slow Notebook Issue\n",
        "\n",
        "This notebook tests the immediate output fix for Jupyter notebook cells that appear to \"hang\" without showing output.\n"
      ]
    },
    {
      "cell_type": "code",
      "execution_count": 1,
      "metadata": {},
      "outputs": [
        {
          "name": "stdout",
          "output_type": "stream",
          "text": [
            "🧪 Testing immediate output...\n",
            "🧪 Testing immediate output...\n",
            "   Step 1/3...\n",
            "   Step 2/3...\n",
            "   Step 3/3...\n",
            "✅ Notebook output test completed!\n"
          ]
        },
        {
          "data": {
            "text/plain": [
              "True"
            ]
          },
          "execution_count": 1,
          "metadata": {},
          "output_type": "execute_result"
        }
      ],
      "source": [
        "# Test immediate output\n",
        "import sys\n",
        "import os\n",
        "sys.path.append(os.path.join('..', 'src'))\n",
        "\n",
        "from notebook_utils import quick_test_notebook_output, notebook_friendly_fetch_demo\n",
        "\n",
        "print(\"🧪 Testing immediate output...\")\n",
        "sys.stdout.flush()\n",
        "\n",
        "# This should show output immediately\n",
        "quick_test_notebook_output()\n"
      ]
    },
    {
      "cell_type": "code",
      "execution_count": 2,
      "metadata": {},
      "outputs": [
        {
          "name": "stdout",
          "output_type": "stream",
          "text": [
            "🚀 Testing improved data fetcher...\n",
            "📅 Date range: 2025-06-10 to 2025-06-17\n",
            "🎯 Testing with 1 stock: 0700.HK (Tencent)\n",
            "💡 You should see output immediately as it processes!\n",
            "🚀 Fetching data for 1 tickers from 2025-06-10 to 2025-06-17\n"
          ]
        },
        {
          "data": {
            "application/vnd.jupyter.widget-view+json": {
              "model_id": "5abe3b3fdd6f425f91f0f9857fc9acfa",
              "version_major": 2,
              "version_minor": 0
            },
            "text/plain": [
              "Processing tickers:   0%|          | 0/1 [00:00<?, ?it/s]"
            ]
          },
          "metadata": {},
          "output_type": "display_data"
        },
        {
          "name": "stdout",
          "output_type": "stream",
          "text": [
            "\n",
            "📊 Processing 0700.HK...\n",
            "  📡 No cached data, fetching from Yahoo Finance...\n",
            "  ⚠️  Attempt 1 failed, retrying...\n",
            "  ⚠️  Attempt 2 failed, retrying...\n",
            "  ❌ Failed to fetch data for 0700.HK\n",
            "\n",
            "🎉 Successfully processed 0 out of 1 tickers\n",
            "\n",
            "✅ Test completed! Got 0 stocks\n"
          ]
        },
        {
          "name": "stderr",
          "output_type": "stream",
          "text": [
            "/Users/test/Documents/StockAnalyze/notebooks/../src/data_fetcher.py:159: UserWarning: Failed to fetch 0700.HK after 3 attempts: download() got an unexpected keyword argument 'show_errors'\n",
            "  warnings.warn(f\"Failed to fetch {ticker} after {MAX_RETRIES + 1} attempts: {e}\")\n"
          ]
        }
      ],
      "source": [
        "# Test the improved data fetching with immediate output\n",
        "from data_fetcher import fetch_hk_stocks\n",
        "from datetime import datetime, timedelta\n",
        "\n",
        "print(\"🚀 Testing improved data fetcher...\")\n",
        "sys.stdout.flush()\n",
        "\n",
        "# Test with just one stock and a short date range\n",
        "end_date = datetime.now().strftime('%Y-%m-%d')\n",
        "start_date = (datetime.now() - timedelta(days=7)).strftime('%Y-%m-%d')\n",
        "\n",
        "print(f\"📅 Date range: {start_date} to {end_date}\")\n",
        "print(f\"🎯 Testing with 1 stock: 0700.HK (Tencent)\")\n",
        "print(f\"💡 You should see output immediately as it processes!\")\n",
        "sys.stdout.flush()\n",
        "\n",
        "# This should show immediate output for each step\n",
        "test_data = fetch_hk_stocks(\n",
        "    tickers=['0700.HK'],\n",
        "    start_date=start_date,\n",
        "    end_date=end_date\n",
        ")\n",
        "\n",
        "print(f\"\\n✅ Test completed! Got {len(test_data)} stocks\")\n",
        "for ticker, data in test_data.items():\n",
        "    print(f\"📊 {ticker}: {len(data)} records\")\n"
      ]
    },
    {
      "cell_type": "code",
      "execution_count": 3,
      "metadata": {},
      "outputs": [
        {
          "name": "stdout",
          "output_type": "stream",
          "text": [
            "🚀 Testing bulk fetcher with immediate output...\n",
            "💡 Each batch should show progress immediately!\n",
            "🚀 Starting bulk fetch for 3 HK stocks\n",
            "⚙️  Batch size: 2, Delay: 0.5s\n",
            "📅 Date range: 2025-06-10 to 2025-06-17\n",
            "\n",
            "📦 Processing batch 1/2: 2 stocks\n",
            "   Tickers: 0700.HK, 0005.HK\n",
            "🚀 Fetching data for 2 tickers from 2025-06-10 to 2025-06-17\n"
          ]
        },
        {
          "data": {
            "application/vnd.jupyter.widget-view+json": {
              "model_id": "09f96837724b436d8788f8f88e2d8cc7",
              "version_major": 2,
              "version_minor": 0
            },
            "text/plain": [
              "Processing tickers:   0%|          | 0/2 [00:00<?, ?it/s]"
            ]
          },
          "metadata": {},
          "output_type": "display_data"
        },
        {
          "name": "stdout",
          "output_type": "stream",
          "text": [
            "\n",
            "📊 Processing 0700.HK...\n",
            "  📡 No cached data, fetching from Yahoo Finance...\n",
            "  ⚠️  Attempt 1 failed, retrying...\n",
            "  ⚠️  Attempt 2 failed, retrying...\n",
            "  ❌ Failed to fetch data for 0700.HK\n",
            "\n",
            "📊 Processing 0005.HK...\n",
            "  📡 No cached data, fetching from Yahoo Finance...\n",
            "  ⚠️  Attempt 1 failed, retrying...\n",
            "  ⚠️  Attempt 2 failed, retrying...\n",
            "  ❌ Failed to fetch data for 0005.HK\n",
            "\n",
            "🎉 Successfully processed 0 out of 2 tickers\n",
            "   ✅ Batch completed: 0 stocks fetched\n",
            "   ⏳ Waiting 0.5s before next batch...\n"
          ]
        },
        {
          "name": "stderr",
          "output_type": "stream",
          "text": [
            "/Users/test/Documents/StockAnalyze/notebooks/../src/data_fetcher.py:159: UserWarning: Failed to fetch 0700.HK after 3 attempts: download() got an unexpected keyword argument 'show_errors'\n",
            "  warnings.warn(f\"Failed to fetch {ticker} after {MAX_RETRIES + 1} attempts: {e}\")\n",
            "/Users/test/Documents/StockAnalyze/notebooks/../src/data_fetcher.py:159: UserWarning: Failed to fetch 0005.HK after 3 attempts: download() got an unexpected keyword argument 'show_errors'\n",
            "  warnings.warn(f\"Failed to fetch {ticker} after {MAX_RETRIES + 1} attempts: {e}\")\n"
          ]
        },
        {
          "name": "stdout",
          "output_type": "stream",
          "text": [
            "\n",
            "📦 Processing batch 2/2: 1 stocks\n",
            "   Tickers: 0941.HK\n",
            "🚀 Fetching data for 1 tickers from 2025-06-10 to 2025-06-17\n"
          ]
        },
        {
          "data": {
            "application/vnd.jupyter.widget-view+json": {
              "model_id": "aff330cb74c34e9d8c616e17993462f3",
              "version_major": 2,
              "version_minor": 0
            },
            "text/plain": [
              "Processing tickers:   0%|          | 0/1 [00:00<?, ?it/s]"
            ]
          },
          "metadata": {},
          "output_type": "display_data"
        },
        {
          "name": "stdout",
          "output_type": "stream",
          "text": [
            "\n",
            "📊 Processing 0941.HK...\n",
            "  📡 No cached data, fetching from Yahoo Finance...\n",
            "  ⚠️  Attempt 1 failed, retrying...\n",
            "  ⚠️  Attempt 2 failed, retrying...\n",
            "  ❌ Failed to fetch data for 0941.HK\n",
            "\n",
            "🎉 Successfully processed 0 out of 1 tickers\n",
            "   ✅ Batch completed: 0 stocks fetched\n",
            "\n",
            "🎉 Bulk fetch completed!\n",
            "   ✅ Successfully fetched: 0 stocks\n",
            "   ❌ Failed: 0 stocks\n",
            "   📊 Success rate: 0.0%\n",
            "\n",
            "🎉 Bulk test completed! Got 0 stocks\n",
            "💡 Notice how you saw each step immediately as it happened!\n"
          ]
        },
        {
          "name": "stderr",
          "output_type": "stream",
          "text": [
            "/Users/test/Documents/StockAnalyze/notebooks/../src/data_fetcher.py:159: UserWarning: Failed to fetch 0941.HK after 3 attempts: download() got an unexpected keyword argument 'show_errors'\n",
            "  warnings.warn(f\"Failed to fetch {ticker} after {MAX_RETRIES + 1} attempts: {e}\")\n"
          ]
        }
      ],
      "source": [
        "# Test bulk fetching with immediate output\n",
        "from bulk_data_fetcher import fetch_hk_stocks_bulk\n",
        "\n",
        "print(\"🚀 Testing bulk fetcher with immediate output...\")\n",
        "print(\"💡 Each batch should show progress immediately!\")\n",
        "sys.stdout.flush()\n",
        "\n",
        "# Test with 3 stocks in small batches\n",
        "test_stocks = ['0700.HK', '0005.HK', '0941.HK']\n",
        "\n",
        "bulk_data = fetch_hk_stocks_bulk(\n",
        "    tickers=test_stocks,\n",
        "    start_date=start_date,\n",
        "    end_date=end_date,\n",
        "    batch_size=2,           # Small batches to see immediate progress\n",
        "    delay_between_batches=0.5,  # Short delay for demo\n",
        "    force_refresh=False\n",
        ")\n",
        "\n",
        "print(f\"\\n🎉 Bulk test completed! Got {len(bulk_data)} stocks\")\n",
        "print(\"💡 Notice how you saw each step immediately as it happened!\")\n"
      ]
    }
  ],
  "metadata": {
    "kernelspec": {
      "display_name": "Python 3",
      "language": "python",
      "name": "python3"
    },
    "language_info": {
      "codemirror_mode": {
        "name": "ipython",
        "version": 3
      },
      "file_extension": ".py",
      "mimetype": "text/x-python",
      "name": "python",
      "nbconvert_exporter": "python",
      "pygments_lexer": "ipython3",
      "version": "3.11.8"
    }
  },
  "nbformat": 4,
  "nbformat_minor": 2
}
