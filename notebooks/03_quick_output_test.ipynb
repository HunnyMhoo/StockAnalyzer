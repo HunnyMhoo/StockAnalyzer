{
 "cells": [
  {
   "cell_type": "raw",
   "metadata": {
    "vscode": {
     "languageId": "raw"
    }
   },
   "source": [
    "# 🧪 Quick Output Test - Fix Slow Notebook Issue\n",
    "\n",
    "This notebook tests the immediate output fix for Jupyter notebook cells that appear to \"hang\" without showing output.\n"
   ]
  },
  {
   "cell_type": "code",
   "execution_count": null,
   "metadata": {
    "lines_to_next_cell": 2
   },
   "outputs": [],
   "source": [
    "# Test immediate output\n",
    "import sys\n",
    "import os\n",
    "sys.path.append(os.path.join('..', 'src'))\n",
    "\n",
    "from notebook_utils import quick_test_notebook_output, notebook_friendly_fetch_demo\n",
    "\n",
    "print(\"🧪 Testing immediate output...\")\n",
    "sys.stdout.flush()\n",
    "\n",
    "# This should show output immediately\n",
    "quick_test_notebook_output()"
   ]
  },
  {
   "cell_type": "code",
   "execution_count": null,
   "metadata": {
    "lines_to_next_cell": 2
   },
   "outputs": [],
   "source": [
    "# Test the improved data fetching with immediate output\n",
    "from data_fetcher import fetch_hk_stocks\n",
    "from datetime import datetime, timedelta\n",
    "\n",
    "print(\"🚀 Testing improved data fetcher...\")\n",
    "sys.stdout.flush()\n",
    "\n",
    "# Test with just one stock and a short date range\n",
    "end_date = datetime.now().strftime('%Y-%m-%d')\n",
    "start_date = (datetime.now() - timedelta(days=7)).strftime('%Y-%m-%d')\n",
    "\n",
    "print(f\"📅 Date range: {start_date} to {end_date}\")\n",
    "print(f\"🎯 Testing with 1 stock: 0700.HK (Tencent)\")\n",
    "print(f\"💡 You should see output immediately as it processes!\")\n",
    "sys.stdout.flush()\n",
    "\n",
    "# This should show immediate output for each step\n",
    "test_data = fetch_hk_stocks(\n",
    "    tickers=['0700.HK'],\n",
    "    start_date=start_date,\n",
    "    end_date=end_date\n",
    ")\n",
    "\n",
    "print(f\"\\n✅ Test completed! Got {len(test_data)} stocks\")\n",
    "for ticker, data in test_data.items():\n",
    "    print(f\"📊 {ticker}: {len(data)} records\")"
   ]
  },
  {
   "cell_type": "code",
   "execution_count": null,
   "metadata": {
    "lines_to_next_cell": 2
   },
   "outputs": [],
   "source": [
    "# Test bulk fetching with immediate output\n",
    "from bulk_data_fetcher import fetch_hk_stocks_bulk\n",
    "\n",
    "print(\"🚀 Testing bulk fetcher with immediate output...\")\n",
    "print(\"💡 Each batch should show progress immediately!\")\n",
    "sys.stdout.flush()\n",
    "\n",
    "# Test with 3 stocks in small batches\n",
    "test_stocks = ['0700.HK', '0005.HK', '0941.HK']\n",
    "\n",
    "bulk_data = fetch_hk_stocks_bulk(\n",
    "    tickers=test_stocks,\n",
    "    start_date=start_date,\n",
    "    end_date=end_date,\n",
    "    batch_size=2,           # Small batches to see immediate progress\n",
    "    delay_between_batches=0.5,  # Short delay for demo\n",
    "    force_refresh=False\n",
    ")\n",
    "\n",
    "print(f\"\\n🎉 Bulk test completed! Got {len(bulk_data)} stocks\")\n",
    "print(\"💡 Notice how you saw each step immediately as it happened!\")"
   ]
  }
 ],
 "metadata": {
  "jupytext": {
   "formats": "ipynb,py:percent"
  },
  "kernelspec": {
   "display_name": "Python 3",
   "language": "python",
   "name": "python3"
  },
  "language_info": {
   "codemirror_mode": {
    "name": "ipython",
    "version": 3
   },
   "file_extension": ".py",
   "mimetype": "text/x-python",
   "name": "python",
   "nbconvert_exporter": "python",
   "pygments_lexer": "ipython3",
   "version": "3.11.8"
  }
 },
 "nbformat": 4,
 "nbformat_minor": 2
}
