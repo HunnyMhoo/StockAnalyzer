{
  "cells": [
    {
      "cell_type": "raw",
      "metadata": {
        "vscode": {
          "languageId": "raw"
        }
      },
      "source": [
        "# Pattern Labeling Demo\n",
        "\n",
        "This notebook demonstrates how to manually label stock chart patterns for training data.\n",
        "\n",
        "## Features\n",
        "- Define labeled patterns with ticker, date range, and pattern type\n",
        "- Validate input data and store in JSON format\n",
        "- Load and manage existing labels\n",
        "- Optional visualization of labeled patterns\n",
        "\n",
        "## Prerequisites\n",
        "- Story 1.1 completed (OHLCV data fetching)\n",
        "- Required libraries: pandas, json, datetime\n",
        "- Optional: mplfinance for chart visualization\n"
      ]
    },
    {
      "cell_type": "raw",
      "metadata": {
        "vscode": {
          "languageId": "raw"
        }
      },
      "source": [
        "## Setup and Imports\n"
      ]
    },
    {
      "cell_type": "code",
      "execution_count": 1,
      "metadata": {},
      "outputs": [
        {
          "name": "stdout",
          "output_type": "stream",
          "text": [
            "✓ Visualization available\n",
            "✓ Pattern labeling modules imported successfully\n"
          ]
        },
        {
          "name": "stderr",
          "output_type": "stream",
          "text": [
            "/Users/test/Documents/StockAnalyze/notebooks/../src/pattern_visualizer.py:31: UserWarning: mplfinance not available. Install with: pip install mplfinance>=0.12.0\n",
            "  warnings.warn(\n"
          ]
        }
      ],
      "source": [
        "# Standard imports\n",
        "import sys\n",
        "import os\n",
        "import json\n",
        "from datetime import datetime\n",
        "from typing import List, Dict\n",
        "\n",
        "# Add src to path for imports\n",
        "sys.path.append('../src')\n",
        "\n",
        "# Import pattern labeling functionality\n",
        "from pattern_labeler import (\n",
        "    PatternLabeler, \n",
        "    PatternLabel, \n",
        "    LabelValidator,\n",
        "    save_labeled_patterns, \n",
        "    load_labeled_patterns,\n",
        "    ValidationError,\n",
        "    PatternLabelError\n",
        ")\n",
        "\n",
        "# Try to import visualization (optional)\n",
        "try:\n",
        "    from pattern_visualizer import display_labeled_pattern, compare_patterns\n",
        "    VISUALIZATION_AVAILABLE = True\n",
        "    print(\"✓ Visualization available\")\n",
        "except ImportError as e:\n",
        "    VISUALIZATION_AVAILABLE = False\n",
        "    print(f\"⚠️  Visualization not available: {e}\")\n",
        "\n",
        "print(\"✓ Pattern labeling modules imported successfully\")\n"
      ]
    },
    {
      "cell_type": "raw",
      "metadata": {
        "vscode": {
          "languageId": "raw"
        }
      },
      "source": [
        "## Initialize Pattern Labeler\n"
      ]
    },
    {
      "cell_type": "code",
      "execution_count": 2,
      "metadata": {},
      "outputs": [
        {
          "name": "stdout",
          "output_type": "stream",
          "text": [
            "Pattern labeler initialized. Labels file: labels/labeled_patterns.json\n"
          ]
        }
      ],
      "source": [
        "# Initialize the pattern labeler\n",
        "labeler = PatternLabeler()\n",
        "print(f\"Pattern labeler initialized. Labels file: {labeler.labels_file}\")\n"
      ]
    },
    {
      "cell_type": "raw",
      "metadata": {
        "vscode": {
          "languageId": "raw"
        }
      },
      "source": [
        "## Example: Define Pattern Labels Using Dictionary Format\n",
        "\n",
        "This matches the format specified in the user story.\n"
      ]
    },
    {
      "cell_type": "code",
      "execution_count": 5,
      "metadata": {},
      "outputs": [
        {
          "name": "stdout",
          "output_type": "stream",
          "text": [
            "Example patterns defined:\n",
            "  - 0700.HK: 2023-02-10 to 2023-03-03 (positive)\n",
            "  - 0005.HK: 2022-10-15 to 2022-11-01 (positive)\n"
          ]
        }
      ],
      "source": [
        "# Example labeled patterns from user story\n",
        "labeled_patterns = [\n",
        "    {\n",
        "        \"ticker\": \"0700.HK\",\n",
        "        \"start_date\": \"2023-02-10\",\n",
        "        \"end_date\": \"2023-03-03\",\n",
        "        \"label_type\": \"positive\",\n",
        "        \"notes\": \"Classic false breakdown before breakout\"\n",
        "    },\n",
        "    {\n",
        "        \"ticker\": \"0005.HK\",\n",
        "        \"start_date\": \"2022-10-15\",\n",
        "        \"end_date\": \"2022-11-01\",\n",
        "        \"label_type\": \"positive\",\n",
        "        \"notes\": \"High volume recovery zone\"\n",
        "    }\n",
        "]\n",
        "\n",
        "print(\"Example patterns defined:\")\n",
        "for pattern in labeled_patterns:\n",
        "    print(f\"  - {pattern['ticker']}: {pattern['start_date']} to {pattern['end_date']} ({pattern['label_type']})\")\n"
      ]
    },
    {
      "cell_type": "raw",
      "metadata": {
        "vscode": {
          "languageId": "raw"
        }
      },
      "source": [
        "## Save Patterns Using the Convenience Function\n"
      ]
    },
    {
      "cell_type": "code",
      "execution_count": 4,
      "metadata": {},
      "outputs": [
        {
          "name": "stdout",
          "output_type": "stream",
          "text": [
            "ℹ️  Re-defined labeled_patterns (previous cell may not have been executed)\n",
            "✓ Saved 2 pattern labels to labels/labeled_patterns.json\n",
            "✓ Patterns saved successfully using convenience function\n"
          ]
        }
      ],
      "source": [
        "# Ensure labeled_patterns is defined (in case previous cell wasn't run)\n",
        "if 'labeled_patterns' not in locals():\n",
        "    labeled_patterns = [\n",
        "        {\n",
        "            \"ticker\": \"0700.HK\",\n",
        "            \"start_date\": \"2023-02-10\",\n",
        "            \"end_date\": \"2023-03-03\",\n",
        "            \"label_type\": \"positive\",\n",
        "            \"notes\": \"Classic false breakdown before breakout\"\n",
        "        },\n",
        "        {\n",
        "            \"ticker\": \"0005.HK\",\n",
        "            \"start_date\": \"2022-10-15\",\n",
        "            \"end_date\": \"2022-11-01\",\n",
        "            \"label_type\": \"positive\",\n",
        "            \"notes\": \"High volume recovery zone\"\n",
        "        }\n",
        "    ]\n",
        "    print(\"ℹ️  Re-defined labeled_patterns (previous cell may not have been executed)\")\n",
        "\n",
        "# Save the labeled patterns using the convenience function\n",
        "try:\n",
        "    save_labeled_patterns(labeled_patterns)\n",
        "    print(\"✓ Patterns saved successfully using convenience function\")\n",
        "except (ValidationError, PatternLabelError) as e:\n",
        "    print(f\"❌ Error saving patterns: {e}\")\n"
      ]
    },
    {
      "cell_type": "raw",
      "metadata": {
        "vscode": {
          "languageId": "raw"
        }
      },
      "source": [
        "## Use the PatternLabeler Instance to Add More Patterns\n"
      ]
    },
    {
      "cell_type": "code",
      "execution_count": 5,
      "metadata": {},
      "outputs": [
        {
          "name": "stdout",
          "output_type": "stream",
          "text": [
            "✓ Saved 3 pattern labels to labels/labeled_patterns.json\n",
            "✓ Added pattern label: 0001.HK (2023-01-15 to 2023-02-05)\n",
            "✓ Saved 4 pattern labels to labels/labeled_patterns.json\n",
            "✓ Added pattern label: 0388.HK (2022-12-01 to 2022-12-20)\n",
            "✓ Additional labels added successfully using labeler instance\n"
          ]
        }
      ],
      "source": [
        "# Ensure labeler is defined (in case previous cell wasn't run)\n",
        "if 'labeler' not in locals():\n",
        "    labeler = PatternLabeler()\n",
        "    print(\"ℹ️  Re-initialized labeler (previous cell may not have been executed)\")\n",
        "\n",
        "# Now use the labeler instance to add additional patterns\n",
        "try:\n",
        "    # Add a new positive pattern using the labeler\n",
        "    new_label = labeler.add_label(\n",
        "        ticker=\"0001.HK\",\n",
        "        start_date=\"2023-01-15\",\n",
        "        end_date=\"2023-02-05\",\n",
        "        label_type=\"positive\",\n",
        "        notes=\"Strong volume breakout pattern\"\n",
        "    )\n",
        "    \n",
        "    # Add a negative example using the labeler\n",
        "    negative_label = labeler.add_label(\n",
        "        ticker=\"0388.HK\",\n",
        "        start_date=\"2022-12-01\",\n",
        "        end_date=\"2022-12-20\",\n",
        "        label_type=\"negative\",\n",
        "        notes=\"Failed breakout, lack of volume confirmation\"\n",
        "    )\n",
        "    \n",
        "    print(\"✓ Additional labels added successfully using labeler instance\")\n",
        "    \n",
        "except (ValidationError, PatternLabelError) as e:\n",
        "    print(f\"❌ Error adding labels: {e}\")\n"
      ]
    },
    {
      "cell_type": "raw",
      "metadata": {
        "vscode": {
          "languageId": "raw"
        }
      },
      "source": [
        "## Load and Display All Patterns Using the Labeler\n"
      ]
    },
    {
      "cell_type": "code",
      "execution_count": 6,
      "metadata": {},
      "outputs": [
        {
          "name": "stdout",
          "output_type": "stream",
          "text": [
            "✓ Loaded 4 patterns using labeler:\n",
            "\n",
            "1. 0700.HK\n",
            "   Period: 2023-02-10 to 2023-03-03\n",
            "   Type: positive\n",
            "   Notes: Classic false breakdown before breakout\n",
            "   Created: 2025-06-19T20:11:06.958833\n",
            "\n",
            "2. 0005.HK\n",
            "   Period: 2022-10-15 to 2022-11-01\n",
            "   Type: positive\n",
            "   Notes: High volume recovery zone\n",
            "   Created: 2025-06-19T20:11:06.958953\n",
            "\n",
            "3. 0001.HK\n",
            "   Period: 2023-01-15 to 2023-02-05\n",
            "   Type: positive\n",
            "   Notes: Strong volume breakout pattern\n",
            "   Created: 2025-06-19T20:11:26.726355\n",
            "\n",
            "4. 0388.HK\n",
            "   Period: 2022-12-01 to 2022-12-20\n",
            "   Type: negative\n",
            "   Notes: Failed breakout, lack of volume confirmation\n",
            "   Created: 2025-06-19T20:11:26.727178\n"
          ]
        }
      ],
      "source": [
        "# Ensure labeler is available\n",
        "if 'labeler' not in locals():\n",
        "    labeler = PatternLabeler()\n",
        "    print(\"ℹ️  Re-initialized labeler (previous cell may not have been executed)\")\n",
        "\n",
        "# Load all patterns using the labeler instance\n",
        "try:\n",
        "    all_patterns = labeler.load_labels()\n",
        "    print(f\"✓ Loaded {len(all_patterns)} patterns using labeler:\")\n",
        "    \n",
        "    for i, pattern in enumerate(all_patterns, 1):\n",
        "        print(f\"\\n{i}. {pattern.ticker}\")\n",
        "        print(f\"   Period: {pattern.start_date} to {pattern.end_date}\")\n",
        "        print(f\"   Type: {pattern.label_type}\")\n",
        "        print(f\"   Notes: {pattern.notes}\")\n",
        "        print(f\"   Created: {pattern.created_at}\")\n",
        "        \n",
        "except PatternLabelError as e:\n",
        "    print(f\"❌ Error loading patterns: {e}\")\n"
      ]
    },
    {
      "cell_type": "raw",
      "metadata": {
        "vscode": {
          "languageId": "raw"
        }
      },
      "source": [
        "## Use Labeler for Summary Statistics and Filtering\n"
      ]
    },
    {
      "cell_type": "code",
      "execution_count": 7,
      "metadata": {},
      "outputs": [
        {
          "name": "stdout",
          "output_type": "stream",
          "text": [
            "📊 Pattern Label Summary using labeler:\n",
            "   Total labels: 4\n",
            "   Unique tickers: 4\n",
            "   Positive labels: 3\n",
            "   Negative labels: 1\n",
            "   Neutral labels: 0\n",
            "\n",
            "🔍 Filter patterns by ticker using labeler:\n",
            "\n",
            "Labels for 0700.HK:\n",
            "  Period: 2023-02-10 to 2023-03-03\n",
            "  Type: positive\n",
            "  Notes: Classic false breakdown before breakout\n"
          ]
        }
      ],
      "source": [
        "# Ensure labeler is available\n",
        "if 'labeler' not in locals():\n",
        "    labeler = PatternLabeler()\n",
        "    print(\"ℹ️  Re-initialized labeler (previous cell may not have been executed)\")\n",
        "\n",
        "# Use labeler to get summary statistics\n",
        "summary = labeler.get_labels_summary()\n",
        "print(\"📊 Pattern Label Summary using labeler:\")\n",
        "print(f\"   Total labels: {summary['total_labels']}\")\n",
        "print(f\"   Unique tickers: {summary['unique_tickers']}\")\n",
        "print(f\"   Positive labels: {summary['positive_labels']}\")\n",
        "print(f\"   Negative labels: {summary['negative_labels']}\")\n",
        "print(f\"   Neutral labels: {summary['neutral_labels']}\")\n",
        "\n",
        "print(\"\\n🔍 Filter patterns by ticker using labeler:\")\n",
        "# Get all labels for a specific ticker using labeler\n",
        "hk700_labels = labeler.get_labels_by_ticker(\"0700.HK\")\n",
        "print(f\"\\nLabels for 0700.HK:\")\n",
        "for label in hk700_labels:\n",
        "    print(f\"  Period: {label.start_date} to {label.end_date}\")\n",
        "    print(f\"  Type: {label.label_type}\")\n",
        "    print(f\"  Notes: {label.notes}\")\n"
      ]
    },
    {
      "cell_type": "raw",
      "metadata": {
        "vscode": {
          "languageId": "raw"
        }
      },
      "source": [
        "## Demonstrate Validation Using Labeler\n"
      ]
    },
    {
      "cell_type": "code",
      "execution_count": 8,
      "metadata": {},
      "outputs": [
        {
          "name": "stdout",
          "output_type": "stream",
          "text": [
            "Testing validation errors with labeler:\n",
            "\n",
            "✓ Caught invalid ticker: Invalid ticker format: INVALID. Expected format: XXXX.HK (e.g., '0700.HK')\n",
            "\n",
            "✓ Caught invalid date range: start_date (2023-01-15) must be before end_date (2023-01-01)\n",
            "\n",
            "✓ Caught duplicate label: Label already exists for 0700.HK (2023-02-10 to 2023-03-03). Use overwrite=True to replace it.\n",
            "\n"
          ]
        }
      ],
      "source": [
        "# Ensure labeler is available\n",
        "if 'labeler' not in locals():\n",
        "    labeler = PatternLabeler()\n",
        "    print(\"ℹ️  Re-initialized labeler (previous cell may not have been executed)\")\n",
        "\n",
        "# Demonstrate validation errors using labeler\n",
        "print(\"Testing validation errors with labeler:\\n\")\n",
        "\n",
        "# Test invalid ticker format\n",
        "try:\n",
        "    labeler.add_label(\n",
        "        ticker=\"INVALID\",\n",
        "        start_date=\"2023-01-01\",\n",
        "        end_date=\"2023-01-15\"\n",
        "    )\n",
        "except ValidationError as e:\n",
        "    print(f\"✓ Caught invalid ticker: {e}\\n\")\n",
        "\n",
        "# Test invalid date range\n",
        "try:\n",
        "    labeler.add_label(\n",
        "        ticker=\"0700.HK\",\n",
        "        start_date=\"2023-01-15\",\n",
        "        end_date=\"2023-01-01\"  # End before start\n",
        "    )\n",
        "except ValidationError as e:\n",
        "    print(f\"✓ Caught invalid date range: {e}\\n\")\n",
        "\n",
        "# Test duplicate detection using labeler\n",
        "try:\n",
        "    # This should fail because we already have a label for 0700.HK with these dates\n",
        "    labeler.add_label(\n",
        "        ticker=\"0700.HK\",\n",
        "        start_date=\"2023-02-10\",\n",
        "        end_date=\"2023-03-03\",\n",
        "        overwrite=False  # Don't allow overwrite\n",
        "    )\n",
        "except PatternLabelError as e:\n",
        "    print(f\"✓ Caught duplicate label: {e}\\n\")\n"
      ]
    },
    {
      "cell_type": "code",
      "execution_count": null,
      "metadata": {},
      "outputs": [],
      "source": []
    },
    {
      "cell_type": "code",
      "execution_count": null,
      "metadata": {},
      "outputs": [],
      "source": []
    }
  ],
  "metadata": {
    "kernelspec": {
      "display_name": "Python 3",
      "language": "python",
      "name": "python3"
    },
    "language_info": {
      "codemirror_mode": {
        "name": "ipython",
        "version": 3
      },
      "file_extension": ".py",
      "mimetype": "text/x-python",
      "name": "python",
      "nbconvert_exporter": "python",
      "pygments_lexer": "ipython3",
      "version": "3.11.8"
    }
  },
  "nbformat": 4,
  "nbformat_minor": 2
}
